{
 "cells": [
  {
   "cell_type": "code",
   "execution_count": 1,
   "id": "8c5b5e1a-64bb-44a2-922f-83668a501b97",
   "metadata": {},
   "outputs": [],
   "source": [
    "import pandas as pd\n",
    "import numpy as np\n",
    "import matplotlib.pyplot as plt\n",
    "import seaborn as sns\n",
    "\n",
    "\n",
    "from nltk.stem import WordNetLemmatizer\n",
    "\n",
    "from sklearn.feature_extraction.text import CountVectorizer, TfidfVectorizer\n",
    "from sklearn.model_selection import train_test_split, GridSearchCV\n",
    "\n",
    "from sklearn.linear_model import LogisticRegression\n",
    "from sklearn.ensemble import RandomForestClassifier, GradientBoostingClassifier, ExtraTreesClassifier\n",
    "from sklearn.pipeline import Pipeline\n",
    "\n",
    "from sklearn.metrics import confusion_matrix, ConfusionMatrixDisplay"
   ]
  },
  {
   "cell_type": "code",
   "execution_count": 2,
   "id": "bc25f72a-2729-48cb-b9e4-a24f28922c72",
   "metadata": {},
   "outputs": [],
   "source": [
    "df_sub = pd.read_csv('../data/df_all_subm.csv')\n",
    "df_com = pd.read_csv('../data/df_all_comm.csv')\n",
    "df_all = pd.read_csv('../data/df_all_text.csv')"
   ]
  },
  {
   "cell_type": "code",
   "execution_count": 3,
   "id": "626d2d55-da54-4ed6-b1ed-abf4da3a9de7",
   "metadata": {},
   "outputs": [
    {
     "data": {
      "text/plain": [
       "((1456,), (1456,), (162,), (162,))"
      ]
     },
     "execution_count": 3,
     "metadata": {},
     "output_type": "execute_result"
    }
   ],
   "source": [
    "X_sub = df_sub['title']\n",
    "y_sub = df_sub['is_news']\n",
    "\n",
    "# split training set and final test set\n",
    "XS_training, XS_final, yS_training, yS_final = train_test_split(X_sub, y_sub, test_size = 0.1, stratify = y_sub)\n",
    "\n",
    "XS_training.shape, yS_training.shape, XS_final.shape, yS_final.shape"
   ]
  },
  {
   "cell_type": "code",
   "execution_count": 4,
   "id": "753739ae-25d0-4c88-a2ba-d95b3f6c40a7",
   "metadata": {},
   "outputs": [
    {
     "data": {
      "text/plain": [
       "((1586,), (1586,), (177,), (177,))"
      ]
     },
     "execution_count": 4,
     "metadata": {},
     "output_type": "execute_result"
    }
   ],
   "source": [
    "# repeat for comments df\n",
    "X_com = df_com['body']\n",
    "y_com = df_com['is_news']\n",
    "\n",
    "XC_training, XC_final, yC_training, yC_final = train_test_split(X_com, y_com, test_size = 0.1, stratify = y_com)\n",
    "\n",
    "XC_training.shape, yC_training.shape, XC_final.shape, yC_final.shape"
   ]
  },
  {
   "cell_type": "code",
   "execution_count": 5,
   "id": "d7fde06a-ee38-4a43-937f-80423f96ac0d",
   "metadata": {},
   "outputs": [],
   "source": [
    "# split training sets into train-test for initial modeling\n",
    "XS_train, XS_test, yS_train, yS_test = train_test_split(XS_training, yS_training, stratify = yS_training)\n",
    "\n",
    "XC_train, XC_test, yC_train, yC_test = train_test_split(XC_training, yC_training, stratify = yC_training)"
   ]
  },
  {
   "cell_type": "code",
   "execution_count": 6,
   "id": "cf55ccb1-9d7b-4dd6-86d0-fad30066178e",
   "metadata": {},
   "outputs": [],
   "source": [
    "def my_lemma(item):\n",
    "    lemma = WordNetLemmatizer()\n",
    "    split_items = item.split(' ')\n",
    "    lemmatized = []\n",
    "    for i in split_items:\n",
    "        lemmatized.append(lemma.lemmatize(i))\n",
    "    return lemmatized"
   ]
  },
  {
   "cell_type": "markdown",
   "id": "42d6384e-2a7d-4ead-87fd-c151017d68f4",
   "metadata": {},
   "source": [
    "Xa_training, Xa_final, ya_training, ya_final = train_test_split(X_a, y_a, test_size = 0.1, stratify = y_a)"
   ]
  },
  {
   "cell_type": "markdown",
   "id": "7df48e13-ef08-444f-a008-6b5fddd7358d",
   "metadata": {},
   "source": [
    "Xa_train, Xa_test, ya_train, ya_test = train_test_split(Xa_training, ya_training, stratify = ya_training)"
   ]
  },
  {
   "cell_type": "markdown",
   "id": "d51335e3-3614-426c-9e6d-c0dc9c8bcbfc",
   "metadata": {},
   "source": [
    "---\n",
    "## Random Forest CVEC/TVEC"
   ]
  },
  {
   "cell_type": "code",
   "execution_count": 8,
   "id": "0f2be3f1-6888-42a3-ba7b-04087a057a72",
   "metadata": {},
   "outputs": [
    {
     "data": {
      "text/plain": [
       "GridSearchCV(estimator=Pipeline(steps=[('cvec', CountVectorizer()),\n",
       "                                       ('rfc', RandomForestClassifier())]),\n",
       "             param_grid={'cvec__ngram_range': [(1, 1), (2, 2), (3, 3), (1, 2),\n",
       "                                               (1, 3)],\n",
       "                         'cvec__stop_words': ['english', None],\n",
       "                         'rfc__n_estimators': [100, 200, 300]})"
      ]
     },
     "execution_count": 8,
     "metadata": {},
     "output_type": "execute_result"
    }
   ],
   "source": [
    "rfc_cvec_pipe = Pipeline([\n",
    "    ('cvec', CountVectorizer()),\n",
    "    ('rfc', RandomForestClassifier())\n",
    "])\n",
    "\n",
    "rfc_cvec_params = {\n",
    "    'cvec__stop_words' : ['english', None],\n",
    "    'cvec__ngram_range': [(1,1), (2,2), (3,3), (1,2),(1,3)],\n",
    "    'rfc__n_estimators': [100, 200, 300]\n",
    "}\n",
    "\n",
    "gs_rfc_cvec = GridSearchCV(rfc_cvec_pipe, param_grid = rfc_cvec_params)\n",
    "\n",
    "gs_rfc_cvec.fit(XS_train, yS_train)"
   ]
  },
  {
   "cell_type": "code",
   "execution_count": 9,
   "id": "e9814f32-19c3-4e44-9b49-10debcd67ea4",
   "metadata": {},
   "outputs": [
    {
     "data": {
      "text/plain": [
       "{'cvec__ngram_range': (1, 1),\n",
       " 'cvec__stop_words': None,\n",
       " 'rfc__n_estimators': 300}"
      ]
     },
     "execution_count": 9,
     "metadata": {},
     "output_type": "execute_result"
    }
   ],
   "source": [
    "gs_rfc_cvec.best_params_"
   ]
  },
  {
   "cell_type": "code",
   "execution_count": 10,
   "id": "a208e6e6-0c38-4c38-a67e-144ed407cb6d",
   "metadata": {},
   "outputs": [
    {
     "data": {
      "text/plain": [
       "(1.0, 0.7802197802197802, 0.8641975308641975)"
      ]
     },
     "execution_count": 10,
     "metadata": {},
     "output_type": "execute_result"
    }
   ],
   "source": [
    "gs_rfc_cvec.score(XS_train, yS_train), gs_rfc_cvec.score(XS_test, yS_test), gs_rfc_cvec.score(XS_final, yS_final)"
   ]
  },
  {
   "cell_type": "markdown",
   "id": "f3b9060b-4e97-4f28-aa2e-30180ae2e6b3",
   "metadata": {},
   "source": [
    "---"
   ]
  },
  {
   "cell_type": "code",
   "execution_count": 11,
   "id": "8145c11a-82e7-4844-adc6-b187cd6429e8",
   "metadata": {},
   "outputs": [
    {
     "data": {
      "text/plain": [
       "GridSearchCV(estimator=Pipeline(steps=[('tfidf', TfidfVectorizer()),\n",
       "                                       ('rfc', RandomForestClassifier())]),\n",
       "             param_grid={'rfc__n_estimators': range(100, 501, 50),\n",
       "                         'tfidf__ngram_range': [(1, 1), (2, 2), (3, 3), (1, 2),\n",
       "                                                (1, 3)],\n",
       "                         'tfidf__stop_words': ['english', None]})"
      ]
     },
     "execution_count": 11,
     "metadata": {},
     "output_type": "execute_result"
    }
   ],
   "source": [
    "rfc_tvec_pipe = Pipeline([\n",
    "    ('tfidf', TfidfVectorizer()),\n",
    "    ('rfc', RandomForestClassifier())\n",
    "])\n",
    "\n",
    "rfc_tvec_params = {\n",
    "    'tfidf__stop_words': ['english', None],\n",
    "    'tfidf__ngram_range': [(1,1), (2,2), (3,3), (1,2),(1,3)],\n",
    "    'rfc__n_estimators': range(100, 501, 50)\n",
    "}\n",
    "\n",
    "gs_rfc_tvec = GridSearchCV(rfc_tvec_pipe, param_grid = rfc_tvec_params)\n",
    "\n",
    "gs_rfc_tvec.fit(XS_train, yS_train)"
   ]
  },
  {
   "cell_type": "code",
   "execution_count": 12,
   "id": "ee80cbab-6885-4b5f-a364-0fca734668e2",
   "metadata": {},
   "outputs": [
    {
     "data": {
      "text/plain": [
       "{'rfc__n_estimators': 200,\n",
       " 'tfidf__ngram_range': (1, 1),\n",
       " 'tfidf__stop_words': None}"
      ]
     },
     "execution_count": 12,
     "metadata": {},
     "output_type": "execute_result"
    }
   ],
   "source": [
    "gs_rfc_tvec.best_params_"
   ]
  },
  {
   "cell_type": "code",
   "execution_count": 13,
   "id": "48e544f0-2712-4d87-903f-9634faf17c05",
   "metadata": {},
   "outputs": [
    {
     "data": {
      "text/plain": [
       "(1.0, 0.7802197802197802, 0.8209876543209876)"
      ]
     },
     "execution_count": 13,
     "metadata": {},
     "output_type": "execute_result"
    }
   ],
   "source": [
    "gs_rfc_tvec.score(XS_train, yS_train), gs_rfc_tvec.score(XS_test, yS_test), gs_rfc_tvec.score(XS_final, yS_final)"
   ]
  },
  {
   "cell_type": "code",
   "execution_count": 14,
   "id": "c2a02117-5f76-4cbe-945a-9874bb84767a",
   "metadata": {},
   "outputs": [
    {
     "data": {
      "text/plain": [
       "(0.5290159798149706, 0.5214105793450882, 0.5536723163841808)"
      ]
     },
     "execution_count": 14,
     "metadata": {},
     "output_type": "execute_result"
    }
   ],
   "source": [
    "gs_rfc_tvec.score(XC_train, yC_train), gs_rfc_tvec.score(XC_test, yC_test), gs_rfc_tvec.score(XC_final, yC_final)"
   ]
  },
  {
   "cell_type": "markdown",
   "id": "10abf9f9-4e5d-453d-979c-b35eaf877cde",
   "metadata": {},
   "source": [
    "---\n",
    "## Logistic CVEC/TVEC"
   ]
  },
  {
   "cell_type": "code",
   "execution_count": 15,
   "id": "ac69e036-3fc2-43ff-8582-d7ebd3a4020a",
   "metadata": {},
   "outputs": [
    {
     "data": {
      "text/plain": [
       "GridSearchCV(estimator=Pipeline(steps=[('cvec', CountVectorizer()),\n",
       "                                       ('logr', LogisticRegression())]),\n",
       "             param_grid={'cvec__ngram_range': [(1, 1), (2, 2), (3, 3), (1, 2),\n",
       "                                               (1, 3)],\n",
       "                         'cvec__stop_words': ['english', None],\n",
       "                         'logr__max_iter': range(50, 501, 50)})"
      ]
     },
     "execution_count": 15,
     "metadata": {},
     "output_type": "execute_result"
    }
   ],
   "source": [
    "log_cvec_pipe = Pipeline([\n",
    "    ('cvec', CountVectorizer()),\n",
    "    ('logr', LogisticRegression())\n",
    "])\n",
    "\n",
    "log_cvec_param = {\n",
    "    'cvec__stop_words' : ['english', None],\n",
    "    'cvec__ngram_range': [(1,1), (2,2), (3,3), (1,2),(1,3)],\n",
    "    'logr__max_iter': range(50, 501, 50)\n",
    "}\n",
    "\n",
    "\n",
    "gs_log_cvec = GridSearchCV(log_cvec_pipe, param_grid = log_cvec_param)\n",
    "\n",
    "gs_log_cvec.fit(XS_train, yS_train)"
   ]
  },
  {
   "cell_type": "code",
   "execution_count": 16,
   "id": "9bfdba2c-b2b3-41d5-ba4e-871742125a9f",
   "metadata": {},
   "outputs": [
    {
     "data": {
      "text/plain": [
       "{'cvec__ngram_range': (1, 1), 'cvec__stop_words': None, 'logr__max_iter': 50}"
      ]
     },
     "execution_count": 16,
     "metadata": {},
     "output_type": "execute_result"
    }
   ],
   "source": [
    "gs_log_cvec.best_params_"
   ]
  },
  {
   "cell_type": "code",
   "execution_count": 17,
   "id": "4b4b1171-ff02-4534-bb0e-b211c46ec4f9",
   "metadata": {},
   "outputs": [
    {
     "data": {
      "text/plain": [
       "(0.9935897435897436, 0.8159340659340659, 0.8641975308641975)"
      ]
     },
     "execution_count": 17,
     "metadata": {},
     "output_type": "execute_result"
    }
   ],
   "source": [
    "gs_log_cvec.score(XS_train, yS_train), gs_log_cvec.score(XS_test, yS_test), gs_log_cvec.score(XS_final, yS_final)"
   ]
  },
  {
   "cell_type": "code",
   "execution_count": 18,
   "id": "b315edf6-4737-438d-afaa-d6c3987aa7a8",
   "metadata": {},
   "outputs": [
    {
     "data": {
      "text/plain": [
       "(0.5534062237174096, 0.5415617128463476, 0.576271186440678)"
      ]
     },
     "execution_count": 18,
     "metadata": {},
     "output_type": "execute_result"
    }
   ],
   "source": [
    "gs_log_cvec.score(XC_train, yC_train), gs_log_cvec.score(XC_test, yC_test), gs_log_cvec.score(XC_final, yC_final)"
   ]
  },
  {
   "cell_type": "markdown",
   "id": "14c63af9-8d12-46ac-9288-51322594872e",
   "metadata": {},
   "source": [
    "---\n"
   ]
  },
  {
   "cell_type": "code",
   "execution_count": 19,
   "id": "8c19402c-583b-4c1e-89ef-d55205b02050",
   "metadata": {},
   "outputs": [
    {
     "data": {
      "text/plain": [
       "GridSearchCV(estimator=Pipeline(steps=[('tvec', TfidfVectorizer()),\n",
       "                                       ('logr', LogisticRegression())]),\n",
       "             param_grid={'logr__max_iter': range(50, 501, 50),\n",
       "                         'tvec__ngram_range': [(1, 1), (2, 2), (3, 3), (1, 2),\n",
       "                                               (1, 3)],\n",
       "                         'tvec__stop_words': ['english', None]})"
      ]
     },
     "execution_count": 19,
     "metadata": {},
     "output_type": "execute_result"
    }
   ],
   "source": [
    "log_tvec_pipe = Pipeline([\n",
    "    ('tvec', TfidfVectorizer()),\n",
    "    ('logr', LogisticRegression())\n",
    "])\n",
    "\n",
    "log_tvec_param = {\n",
    "    'tvec__stop_words' : ['english', None],\n",
    "    'tvec__ngram_range': [(1,1), (2,2), (3,3), (1,2),(1,3)],\n",
    "    'logr__max_iter': range(50, 501, 50)\n",
    "}\n",
    "\n",
    "\n",
    "gs_log_tvec = GridSearchCV(log_tvec_pipe, param_grid = log_tvec_param)\n",
    "\n",
    "gs_log_tvec.fit(XS_train, yS_train)"
   ]
  },
  {
   "cell_type": "code",
   "execution_count": 20,
   "id": "bdea354a-1d4e-463e-8120-6eecc845dc11",
   "metadata": {},
   "outputs": [
    {
     "data": {
      "text/plain": [
       "{'logr__max_iter': 50, 'tvec__ngram_range': (1, 1), 'tvec__stop_words': None}"
      ]
     },
     "execution_count": 20,
     "metadata": {},
     "output_type": "execute_result"
    }
   ],
   "source": [
    "gs_log_tvec.best_params_"
   ]
  },
  {
   "cell_type": "code",
   "execution_count": 21,
   "id": "061530ab-046b-43c1-9468-7a3d144a5ece",
   "metadata": {},
   "outputs": [
    {
     "data": {
      "text/plain": [
       "(0.9010989010989011, 0.7857142857142857, 0.8271604938271605)"
      ]
     },
     "execution_count": 21,
     "metadata": {},
     "output_type": "execute_result"
    }
   ],
   "source": [
    "gs_log_tvec.score(XS_train, yS_train), gs_log_tvec.score(XS_test, yS_test), gs_log_tvec.score(XS_final, yS_final)"
   ]
  },
  {
   "cell_type": "code",
   "execution_count": 22,
   "id": "da3d70cd-5300-4123-93c5-d923a5effd51",
   "metadata": {},
   "outputs": [
    {
     "data": {
      "text/plain": [
       "(0.5803195962994113, 0.5667506297229219, 0.6214689265536724)"
      ]
     },
     "execution_count": 22,
     "metadata": {},
     "output_type": "execute_result"
    }
   ],
   "source": [
    "gs_log_tvec.score(XC_train, yC_train), gs_log_tvec.score(XC_test, yC_test), gs_log_tvec.score(XC_final, yC_final)"
   ]
  },
  {
   "cell_type": "markdown",
   "id": "80db20d9-f5e0-47e1-9ac6-4b8b441298f7",
   "metadata": {},
   "source": [
    "--- \n",
    "## ExtraTrees CVEC/TVEC"
   ]
  },
  {
   "cell_type": "code",
   "execution_count": 23,
   "id": "8ec391d5-bbbe-4219-84e5-c4c2b182b090",
   "metadata": {},
   "outputs": [
    {
     "data": {
      "text/plain": [
       "GridSearchCV(estimator=Pipeline(steps=[('cvec', CountVectorizer()),\n",
       "                                       ('ext', ExtraTreesClassifier())]),\n",
       "             param_grid={'cvec__ngram_range': [(1, 1), (2, 2), (3, 3), (1, 2),\n",
       "                                               (1, 3)],\n",
       "                         'cvec__stop_words': ['english', None]})"
      ]
     },
     "execution_count": 23,
     "metadata": {},
     "output_type": "execute_result"
    }
   ],
   "source": [
    "ext_cvec_pipe = Pipeline([\n",
    "    ('cvec', CountVectorizer()),\n",
    "    ('ext', ExtraTreesClassifier())\n",
    "])\n",
    "\n",
    "ext_cvec_param = {\n",
    "    'cvec__stop_words' : ['english', None],\n",
    "    'cvec__ngram_range': [(1,1), (2,2), (3,3), (1,2),(1,3)]\n",
    "}\n",
    "\n",
    "gs_ext_cvec = GridSearchCV(ext_cvec_pipe, param_grid = ext_cvec_param)\n",
    "\n",
    "gs_ext_cvec.fit(XS_train, yS_train)"
   ]
  },
  {
   "cell_type": "code",
   "execution_count": 24,
   "id": "89eff720-7652-46ab-a436-9ee47cab5b7b",
   "metadata": {},
   "outputs": [
    {
     "data": {
      "text/plain": [
       "{'cvec__ngram_range': (1, 1), 'cvec__stop_words': None}"
      ]
     },
     "execution_count": 24,
     "metadata": {},
     "output_type": "execute_result"
    }
   ],
   "source": [
    "gs_ext_cvec.best_params_"
   ]
  },
  {
   "cell_type": "code",
   "execution_count": 25,
   "id": "e78c364c-3240-4739-811f-8426c8c855f0",
   "metadata": {},
   "outputs": [
    {
     "data": {
      "text/plain": [
       "(1.0, 0.7994505494505495, 0.8641975308641975)"
      ]
     },
     "execution_count": 25,
     "metadata": {},
     "output_type": "execute_result"
    }
   ],
   "source": [
    "gs_ext_cvec.score(XS_train, yS_train), gs_ext_cvec.score(XS_test, yS_test), gs_ext_cvec.score(XS_final, yS_final)"
   ]
  },
  {
   "cell_type": "code",
   "execution_count": 26,
   "id": "4f8dac86-f6ed-47d7-a2f5-6b8aa677ae41",
   "metadata": {},
   "outputs": [
    {
     "data": {
      "text/plain": [
       "GridSearchCV(estimator=Pipeline(steps=[('tvec', TfidfVectorizer()),\n",
       "                                       ('rfc', RandomForestClassifier())]),\n",
       "             param_grid={'tvec__ngram_range': [(1, 1), (2, 2), (3, 3), (1, 2),\n",
       "                                               (1, 3)],\n",
       "                         'tvec__stop_words': ['english', None]})"
      ]
     },
     "execution_count": 26,
     "metadata": {},
     "output_type": "execute_result"
    }
   ],
   "source": [
    "ext_tvec_pipe = Pipeline([\n",
    "    ('tvec', TfidfVectorizer()),\n",
    "    ('rfc', RandomForestClassifier())\n",
    "])\n",
    "\n",
    "ext_tvec_param = {\n",
    "    'tvec__stop_words' : ['english', None],\n",
    "    'tvec__ngram_range': [(1,1), (2,2), (3,3), (1,2),(1,3)]\n",
    "}\n",
    "\n",
    "gs_ext_tvec = GridSearchCV(ext_tvec_pipe, param_grid = ext_tvec_param)\n",
    "\n",
    "gs_ext_tvec.fit(XS_train, yS_train)"
   ]
  },
  {
   "cell_type": "code",
   "execution_count": 27,
   "id": "f0fe8e8b-1a9e-44e8-beb5-4aab43bb98ba",
   "metadata": {},
   "outputs": [
    {
     "data": {
      "text/plain": [
       "{'tvec__ngram_range': (1, 1), 'tvec__stop_words': None}"
      ]
     },
     "execution_count": 27,
     "metadata": {},
     "output_type": "execute_result"
    }
   ],
   "source": [
    "gs_ext_tvec.best_params_"
   ]
  },
  {
   "cell_type": "code",
   "execution_count": 28,
   "id": "db10ad4a-28e7-4bd1-8c84-bfde2c55093f",
   "metadata": {},
   "outputs": [
    {
     "data": {
      "text/plain": [
       "(1.0, 0.7747252747252747, 0.8024691358024691)"
      ]
     },
     "execution_count": 28,
     "metadata": {},
     "output_type": "execute_result"
    }
   ],
   "source": [
    "gs_ext_tvec.score(XS_train, yS_train), gs_ext_tvec.score(XS_test, yS_test), gs_ext_tvec.score(XS_final, yS_final)"
   ]
  },
  {
   "cell_type": "markdown",
   "id": "b65e4c1e-9a61-40a0-a2db-88ce53a4a86f",
   "metadata": {
    "tags": []
   },
   "source": [
    "---\n",
    "## GBoost CVEC/TVEC"
   ]
  },
  {
   "cell_type": "code",
   "execution_count": 29,
   "id": "9d470b8a-a0b7-4b29-a51d-5e3f8af492ae",
   "metadata": {},
   "outputs": [
    {
     "data": {
      "text/plain": [
       "GridSearchCV(estimator=Pipeline(steps=[('cvec', CountVectorizer()),\n",
       "                                       ('gb', GradientBoostingClassifier())]),\n",
       "             param_grid={'cvec__ngram_range': [(1, 1), (2, 2), (3, 3), (1, 2),\n",
       "                                               (1, 3)],\n",
       "                         'cvec__stop_words': ['english', None],\n",
       "                         'gb__learning_rate': [0.05, 0.1, 0.15, 0.2],\n",
       "                         'gb__n_estimators': [200, 300]})"
      ]
     },
     "execution_count": 29,
     "metadata": {},
     "output_type": "execute_result"
    }
   ],
   "source": [
    "gb_cvec_pipe = Pipeline([\n",
    "    ('cvec', CountVectorizer()),\n",
    "    ('gb', GradientBoostingClassifier())\n",
    "])\n",
    "\n",
    "gb_cvec_param = {\n",
    "    'cvec__stop_words' : ['english', None],\n",
    "    'cvec__ngram_range': [(1,1), (2,2), (3,3), (1,2),(1,3)],\n",
    "    'gb__learning_rate': [0.05, 0.1, 0.15, 0.2],\n",
    "    'gb__n_estimators': [200, 300]\n",
    "}\n",
    "\n",
    "gs_gb_cvec = GridSearchCV(gb_cvec_pipe, param_grid = gb_cvec_param)\n",
    "\n",
    "gs_gb_cvec.fit(XS_train, yS_train)"
   ]
  },
  {
   "cell_type": "code",
   "execution_count": 30,
   "id": "48f122a4-68af-4a28-a6fb-fd21f2b6288d",
   "metadata": {},
   "outputs": [
    {
     "data": {
      "text/plain": [
       "{'cvec__ngram_range': (1, 2),\n",
       " 'cvec__stop_words': None,\n",
       " 'gb__learning_rate': 0.2,\n",
       " 'gb__n_estimators': 300}"
      ]
     },
     "execution_count": 30,
     "metadata": {},
     "output_type": "execute_result"
    }
   ],
   "source": [
    "gs_gb_cvec.best_params_"
   ]
  },
  {
   "cell_type": "code",
   "execution_count": 31,
   "id": "f09e5d68-0f5a-4905-9dad-51a8f5706053",
   "metadata": {},
   "outputs": [
    {
     "data": {
      "text/plain": [
       "(0.9926739926739927, 0.7912087912087912, 0.7901234567901234)"
      ]
     },
     "execution_count": 31,
     "metadata": {},
     "output_type": "execute_result"
    }
   ],
   "source": [
    "gs_gb_cvec.score(XS_train, yS_train), gs_gb_cvec.score(XS_test, yS_test), gs_gb_cvec.score(XS_final, yS_final)"
   ]
  },
  {
   "cell_type": "markdown",
   "id": "93ad5ba3-03d3-4b1b-8140-63dd4c19e225",
   "metadata": {},
   "source": [
    "---"
   ]
  },
  {
   "cell_type": "code",
   "execution_count": 32,
   "id": "880eae2d-4df7-4739-968b-1c0a7a3584e7",
   "metadata": {},
   "outputs": [
    {
     "data": {
      "text/plain": [
       "GridSearchCV(estimator=Pipeline(steps=[('tvec', CountVectorizer()),\n",
       "                                       ('gb', GradientBoostingClassifier())]),\n",
       "             param_grid={'gb__learning_rate': [0.1, 0.2],\n",
       "                         'gb__n_estimators': [150, 200],\n",
       "                         'tvec__ngram_range': [(1, 2), (1, 3)],\n",
       "                         'tvec__tokenizer': [None,\n",
       "                                             <function my_lemma at 0x7fc610ad8ee0>]})"
      ]
     },
     "execution_count": 32,
     "metadata": {},
     "output_type": "execute_result"
    }
   ],
   "source": [
    "gb_tvec_pipe = Pipeline([\n",
    "    ('tvec', CountVectorizer()),\n",
    "    ('gb', GradientBoostingClassifier())\n",
    "])\n",
    "\n",
    "gb_tvec_param = {\n",
    "    'tvec__tokenizer': [None, my_lemma],\n",
    "    'tvec__ngram_range': [(1,2),(1,3)],\n",
    "    'gb__learning_rate': [0.1, 0.2],\n",
    "    'gb__n_estimators': [150, 200]\n",
    "}\n",
    "\n",
    "gs_gb_tvec = GridSearchCV(gb_tvec_pipe, param_grid = gb_tvec_param)\n",
    "\n",
    "gs_gb_tvec.fit(XS_train, yS_train)"
   ]
  },
  {
   "cell_type": "code",
   "execution_count": 33,
   "id": "c40814f4-70fd-446f-8411-2ce25cf998a7",
   "metadata": {},
   "outputs": [
    {
     "data": {
      "text/plain": [
       "{'gb__learning_rate': 0.2,\n",
       " 'gb__n_estimators': 200,\n",
       " 'tvec__ngram_range': (1, 3),\n",
       " 'tvec__tokenizer': <function __main__.my_lemma(item)>}"
      ]
     },
     "execution_count": 33,
     "metadata": {},
     "output_type": "execute_result"
    }
   ],
   "source": [
    "gs_gb_tvec.best_params_"
   ]
  },
  {
   "cell_type": "code",
   "execution_count": 34,
   "id": "8f7fc000-7c66-4734-b86f-8feaebeee229",
   "metadata": {},
   "outputs": [
    {
     "data": {
      "text/plain": [
       "(0.9990842490842491, 0.7939560439560439, 0.7777777777777778)"
      ]
     },
     "execution_count": 34,
     "metadata": {},
     "output_type": "execute_result"
    }
   ],
   "source": [
    "gs_gb_tvec.score(XS_train, yS_train), gs_gb_tvec.score(XS_test, yS_test), gs_gb_tvec.score(XS_final, yS_final)"
   ]
  }
 ],
 "metadata": {
  "kernelspec": {
   "display_name": "Python 3 (ipykernel)",
   "language": "python",
   "name": "python3"
  },
  "language_info": {
   "codemirror_mode": {
    "name": "ipython",
    "version": 3
   },
   "file_extension": ".py",
   "mimetype": "text/x-python",
   "name": "python",
   "nbconvert_exporter": "python",
   "pygments_lexer": "ipython3",
   "version": "3.9.13"
  }
 },
 "nbformat": 4,
 "nbformat_minor": 5
}
