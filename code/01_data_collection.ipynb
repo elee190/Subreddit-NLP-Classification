{
 "cells": [
  {
   "cell_type": "code",
   "execution_count": 1,
   "id": "b59fb9b9-6a53-4be0-8455-278a4273793e",
   "metadata": {},
   "outputs": [],
   "source": [
    "import requests\n",
    "import calendar\n",
    "import time\n",
    "import pandas as pd\n",
    "import numpy as np\n",
    "from datetime import datetime\n",
    "\n",
    "pd.set_option('display.max_columns', None)\n",
    "pd.set_option('display.max_rows', None)"
   ]
  },
  {
   "cell_type": "code",
   "execution_count": 5,
   "id": "d9132afc-06cd-48ca-85bd-f81020eb98ff",
   "metadata": {},
   "outputs": [],
   "source": [
    "def retriever(subreddit_1, subreddit_2, iterations):\n",
    "    '''\n",
    "    Retrieves the latest 500 (* iterations) posts and comments from r/subreddit_1 and r/subreddit_2\n",
    "    '''\n",
    "    \n",
    "    utc_time = int(time.mktime(datetime.utcnow().timetuple()))\n",
    "\n",
    "    params_1 = {'subreddit': f'{subreddit_1}',\n",
    "                  #'filter': 'selftext, body, title, url, domain, created_utc, permalink',\n",
    "                  'until': utc_time,\n",
    "                  'limit': 500\n",
    "                 }\n",
    "              \n",
    "    params_2 = {'subreddit': f'{subreddit_2}',\n",
    "                 #'filter': 'selftext, body, title, url, domain, created_utc, permalink',\n",
    "                 'until': utc_time,\n",
    "                 'limit': 500\n",
    "                }\n",
    "\n",
    "    params = [params_1, params_2]\n",
    "\n",
    "    urls = [{'subm': 'https://api.pushshift.io/reddit/search/submission/'},\n",
    "            {'comm': 'https://api.pushshift.io/reddit/search/comment/'}]\n",
    "    \n",
    "    for i in range(len(params)):\n",
    "        subreddit = params[i]\n",
    "        sub_id = str(subreddit['subreddit'])[:3]\n",
    "        url_type = ['subm', 'comm']\n",
    "        \n",
    "        for u in range(len(url_type)):\n",
    "            \n",
    "            for interval in range(iterations):\n",
    "                res = requests.get(urls[u][url_type[u]], subreddit)\n",
    "                \n",
    "                if res.status_code == 200:\n",
    "                    df = pd.DataFrame(res.json()['data'])\n",
    "                    df.to_csv(f'../data/raw/df_{sub_id}_{url_type[u]}_0{interval}.csv', index = False)\n",
    "                    subreddit['until'] = df['created_utc'][-1:]\n",
    "                    print(f'Pull success :: {sub_id} ::{url_type[u]} :: _0{interval} :: {utc_time} :: {df.shape}')\n",
    "                elif res.status_code != 200:\n",
    "                    print(f'Pull failed :: status_code {res.status_code}')"
   ]
  },
  {
   "cell_type": "code",
   "execution_count": 10,
   "id": "f72c8918-84d3-4817-aca9-998bbf069442",
   "metadata": {},
   "outputs": [
    {
     "name": "stdout",
     "output_type": "stream",
     "text": [
      "Pull success :: geo ::subm :: _00 :: 1674174186 :: (499, 92)\n",
      "Pull success :: geo ::subm :: _01 :: 1674174186 :: (144, 93)\n",
      "Pull success :: geo ::comm :: _00 :: 1674174186 :: (499, 55)\n",
      "Pull success :: geo ::comm :: _01 :: 1674174186 :: (499, 55)\n",
      "Pull success :: wor ::subm :: _00 :: 1674174186 :: (500, 92)\n",
      "Pull success :: wor ::subm :: _01 :: 1674174186 :: (500, 92)\n",
      "Pull success :: wor ::comm :: _00 :: 1674174186 :: (498, 53)\n",
      "Pull success :: wor ::comm :: _01 :: 1674174186 :: (500, 53)\n"
     ]
    }
   ],
   "source": [
    "retriever('geopolitics', 'worldnews', 2)"
   ]
  },
  {
   "cell_type": "code",
   "execution_count": null,
   "id": "538a617a-4b45-4741-8c56-3bbf7989b8ed",
   "metadata": {},
   "outputs": [],
   "source": []
  }
 ],
 "metadata": {
  "kernelspec": {
   "display_name": "Python 3 (ipykernel)",
   "language": "python",
   "name": "python3"
  },
  "language_info": {
   "codemirror_mode": {
    "name": "ipython",
    "version": 3
   },
   "file_extension": ".py",
   "mimetype": "text/x-python",
   "name": "python",
   "nbconvert_exporter": "python",
   "pygments_lexer": "ipython3",
   "version": "3.9.13"
  }
 },
 "nbformat": 4,
 "nbformat_minor": 5
}
