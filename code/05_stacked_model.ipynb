{
 "cells": [
  {
   "cell_type": "code",
   "execution_count": 13,
   "id": "392840d8-a922-4682-a74e-633aa85a737a",
   "metadata": {},
   "outputs": [],
   "source": [
    "import pandas as pd\n",
    "import seaborn as sns\n",
    "import numpy as np\n",
    "import matplotlib.pyplot as plt\n",
    "\n",
    "from sklearn.model_selection import train_test_split\n",
    "from sklearn.linear_model import LogisticRegression\n",
    "from sklearn.feature_extraction.text import CountVectorizer, TfidfVectorizer\n",
    "from sklearn.pipeline import Pipeline\n",
    "from sklearn.ensemble import RandomForestClassifier, ExtraTreesClassifier, GradientBoostingClassifier, StackingClassifier, VotingClassifier\n",
    "from sklearn.metrics import confusion_matrix"
   ]
  },
  {
   "cell_type": "code",
   "execution_count": 2,
   "id": "8337770c-e47b-487c-9d07-585d4d6df493",
   "metadata": {},
   "outputs": [],
   "source": [
    "df_sub = pd.read_csv('../data/df_all_subm.csv')\n",
    "df_com = pd.read_csv('../data/df_all_comm.csv')\n",
    "df_all = pd.read_csv('../data/df_all_text.csv')"
   ]
  },
  {
   "cell_type": "code",
   "execution_count": 40,
   "id": "a4b89df1-483a-497e-84bf-bb0409f20496",
   "metadata": {},
   "outputs": [
    {
     "data": {
      "text/plain": [
       "((1456,), (1456,), (162,), (162,))"
      ]
     },
     "execution_count": 40,
     "metadata": {},
     "output_type": "execute_result"
    }
   ],
   "source": [
    "X_sub = df_sub['title']\n",
    "y_sub = df_sub['is_news']\n",
    "\n",
    "# split training set and final test set\n",
    "XS_training, XS_final, yS_training, yS_final = train_test_split(X_sub, y_sub, test_size = 0.1, stratify = y_sub)\n",
    "\n",
    "# split training set into train/test sets\n",
    "XS_training.shape, yS_training.shape, XS_final.shape, yS_final.shape"
   ]
  },
  {
   "cell_type": "code",
   "execution_count": 41,
   "id": "fe781d24-cf71-45ec-83f9-34dec99e6e40",
   "metadata": {},
   "outputs": [],
   "source": [
    "# repeat for comments df\n",
    "X_com = df_com['body']\n",
    "y_com = df_com['is_news']\n",
    "\n",
    "XC_training, XC_final, yC_training, yC_final = train_test_split(X_com, y_com, test_size = 0.1, stratify = y_com)\n",
    "\n",
    "XC_training.shape, yC_training.shape, XC_final.shape, yC_final.shape\n",
    "\n",
    "XC_train, XC_test, yC_train, yC_test = train_test_split(XC_training, yC_training, stratify = yC_training)"
   ]
  },
  {
   "cell_type": "code",
   "execution_count": 42,
   "id": "2d3762b1-c436-40ef-97bd-8303ccb53309",
   "metadata": {},
   "outputs": [],
   "source": [
    "XS_train, XS_test, yS_train, yS_test = train_test_split(XS_training, yS_training, stratify = yS_training)"
   ]
  },
  {
   "cell_type": "markdown",
   "id": "5d53daca-d755-4560-88ce-fa305adbc5b3",
   "metadata": {},
   "source": [
    "---\n",
    "## Stacked Model"
   ]
  },
  {
   "cell_type": "code",
   "execution_count": 43,
   "id": "4e55b6b6-5745-4a80-be02-00d5dfad0020",
   "metadata": {},
   "outputs": [],
   "source": [
    "# stacking highest performing models from 04_nlp_model.ipynb with optimized hyperparameters from Gridsearch\n",
    "\n",
    "level1_estimators = [\n",
    "    ('rfc_pipe', Pipeline([\n",
    "        ('cvec', CountVectorizer(ngram_range = (1,1))),\n",
    "        ('rfc', RandomForestClassifier(n_estimators = 200))\n",
    "    ])),\n",
    "    ('ext_pipe', Pipeline([\n",
    "        ('cvec', CountVectorizer(ngram_range = (1,1))),\n",
    "        ('ext', ExtraTreesClassifier())\n",
    "    ])),\n",
    "    ('gb_pipe', Pipeline([\n",
    "        ('cvec', CountVectorizer(ngram_range = (1,2))),\n",
    "        ('gb', GradientBoostingClassifier(learning_rate = 0.2, n_estimators = 200))\n",
    "    ]))\n",
    "]"
   ]
  },
  {
   "cell_type": "code",
   "execution_count": 44,
   "id": "56f9a458-cc1d-420b-9fbf-6616aa85dd2e",
   "metadata": {},
   "outputs": [
    {
     "data": {
      "text/plain": [
       "StackingClassifier(estimators=[('rfc_pipe',\n",
       "                                Pipeline(steps=[('cvec', CountVectorizer()),\n",
       "                                                ('rfc',\n",
       "                                                 RandomForestClassifier(n_estimators=200))])),\n",
       "                               ('ext_pipe',\n",
       "                                Pipeline(steps=[('cvec', CountVectorizer()),\n",
       "                                                ('ext',\n",
       "                                                 ExtraTreesClassifier())])),\n",
       "                               ('gb_pipe',\n",
       "                                Pipeline(steps=[('cvec',\n",
       "                                                 CountVectorizer(ngram_range=(1,\n",
       "                                                                              2))),\n",
       "                                                ('gb',\n",
       "                                                 GradientBoostingClassifier(learning_rate=0.2,\n",
       "                                                                            n_estimators=200))]))],\n",
       "                   final_estimator=LogisticRegression())"
      ]
     },
     "execution_count": 44,
     "metadata": {},
     "output_type": "execute_result"
    }
   ],
   "source": [
    "stacked_model = StackingClassifier(estimators = level1_estimators,\n",
    "                                   final_estimator = LogisticRegression())\n",
    "\n",
    "stacked_model.fit(XS_train, yS_train)"
   ]
  },
  {
   "cell_type": "code",
   "execution_count": 45,
   "id": "e3e1f649-aa4c-4c71-bc53-d15ace7d4291",
   "metadata": {},
   "outputs": [
    {
     "data": {
      "text/plain": [
       "(1.0, 0.7857142857142857, 0.8580246913580247)"
      ]
     },
     "execution_count": 45,
     "metadata": {},
     "output_type": "execute_result"
    }
   ],
   "source": [
    "stacked_model.score(XS_train, yS_train), stacked_model.score(XS_test, yS_test), stacked_model.score(XS_final, yS_final)"
   ]
  },
  {
   "cell_type": "code",
   "execution_count": 9,
   "id": "6613ec94-0d98-4557-aa8c-05cecb4563c2",
   "metadata": {},
   "outputs": [
    {
     "data": {
      "text/plain": [
       "(0.5441547518923465, 0.5692695214105793, 0.5028248587570622)"
      ]
     },
     "execution_count": 9,
     "metadata": {},
     "output_type": "execute_result"
    }
   ],
   "source": [
    "stacked_model.score(XC_train, yC_train), stacked_model.score(XC_test, yC_test), stacked_model.score(XC_final, yC_final)"
   ]
  },
  {
   "cell_type": "code",
   "execution_count": 10,
   "id": "b27f6b68-ea62-4539-8b26-87fb7b8df84a",
   "metadata": {},
   "outputs": [
    {
     "data": {
      "text/plain": [
       "[Pipeline(steps=[('cvec', CountVectorizer()),\n",
       "                 ('rfc', RandomForestClassifier(n_estimators=200))]),\n",
       " Pipeline(steps=[('cvec', CountVectorizer()), ('ext', ExtraTreesClassifier())]),\n",
       " Pipeline(steps=[('cvec', CountVectorizer(ngram_range=(1, 2))),\n",
       "                 ('gb',\n",
       "                  GradientBoostingClassifier(learning_rate=0.2,\n",
       "                                             n_estimators=200))])]"
      ]
     },
     "execution_count": 10,
     "metadata": {},
     "output_type": "execute_result"
    }
   ],
   "source": [
    "stacked_model.estimators_"
   ]
  },
  {
   "cell_type": "code",
   "execution_count": null,
   "id": "532926cd-10e8-44ed-aca7-905fefc3ef7e",
   "metadata": {},
   "outputs": [],
   "source": []
  },
  {
   "cell_type": "markdown",
   "id": "5590640d-0189-48bb-b074-b3e066fa6009",
   "metadata": {},
   "source": [
    "---\n",
    "## Training the stacked model on ALL (comments + submissions) data"
   ]
  },
  {
   "cell_type": "code",
   "execution_count": 31,
   "id": "51b14330-3dd0-4629-893e-e9c30d51ed96",
   "metadata": {},
   "outputs": [],
   "source": [
    "X_a = df_all['text']\n",
    "y_a = df_all['is_news']\n",
    "\n",
    "XA_training, XA_final, yA_training, yA_final = train_test_split(X_a, y_a, test_size = 0.1, stratify = y_a)\n",
    "\n",
    "XA_train, XA_test, yA_train, yA_test = train_test_split(XA_training, yA_training, stratify = yA_training)"
   ]
  },
  {
   "cell_type": "code",
   "execution_count": 32,
   "id": "dda46afc-c965-425f-b52c-d07e5f23fd47",
   "metadata": {},
   "outputs": [
    {
     "data": {
      "text/plain": [
       "StackingClassifier(estimators=[('rfc_pipe',\n",
       "                                Pipeline(steps=[('cvec', CountVectorizer()),\n",
       "                                                ('rfc',\n",
       "                                                 RandomForestClassifier(n_estimators=200))])),\n",
       "                               ('ext_pipe',\n",
       "                                Pipeline(steps=[('cvec', CountVectorizer()),\n",
       "                                                ('ext',\n",
       "                                                 ExtraTreesClassifier())])),\n",
       "                               ('gb_pipe',\n",
       "                                Pipeline(steps=[('cvec',\n",
       "                                                 CountVectorizer(ngram_range=(1,\n",
       "                                                                              2))),\n",
       "                                                ('gb',\n",
       "                                                 GradientBoostingClassifier(learning_rate=0.2,\n",
       "                                                                            n_estimators=200))]))],\n",
       "                   final_estimator=LogisticRegression())"
      ]
     },
     "execution_count": 32,
     "metadata": {},
     "output_type": "execute_result"
    }
   ],
   "source": [
    "stacked_model_A = StackingClassifier(estimators = level1_estimators,\n",
    "                                   final_estimator = LogisticRegression())\n",
    "\n",
    "stacked_model_A.fit(XA_train, yA_train)"
   ]
  },
  {
   "cell_type": "code",
   "execution_count": 33,
   "id": "0d620a6a-517a-4712-b470-3ce0d0194a3c",
   "metadata": {},
   "outputs": [
    {
     "data": {
      "text/plain": [
       "(0.9995615957913196, 0.7687253613666228, 0.7463126843657817)"
      ]
     },
     "execution_count": 33,
     "metadata": {},
     "output_type": "execute_result"
    }
   ],
   "source": [
    "stacked_model_A.score(XA_train, yA_train), stacked_model_A.score(XA_test, yA_test), stacked_model_A.score(XA_final, yA_final)"
   ]
  },
  {
   "cell_type": "code",
   "execution_count": 34,
   "id": "8f409f94-a96b-4b09-86e1-1007f2754aef",
   "metadata": {},
   "outputs": [
    {
     "data": {
      "text/plain": [
       "(0.9358974358974359, 0.9203296703296703, 0.9259259259259259)"
      ]
     },
     "execution_count": 34,
     "metadata": {},
     "output_type": "execute_result"
    }
   ],
   "source": [
    "stacked_model_A.score(XS_train, yS_train), stacked_model_A.score(XS_test, yS_test), stacked_model_A.score(XS_final, yS_final)"
   ]
  },
  {
   "cell_type": "code",
   "execution_count": 35,
   "id": "88ee1c00-1edd-4ff6-8b95-041022f9c437",
   "metadata": {},
   "outputs": [
    {
     "data": {
      "text/plain": [
       "(0.9074852817493693, 0.9345088161209067, 0.9152542372881356)"
      ]
     },
     "execution_count": 35,
     "metadata": {},
     "output_type": "execute_result"
    }
   ],
   "source": [
    "stacked_model_A.score(XC_train, yC_train), stacked_model_A.score(XC_test, yC_test), stacked_model_A.score(XC_final, yC_final)"
   ]
  },
  {
   "cell_type": "markdown",
   "id": "71e4fd32-ef60-456c-9cb2-c818819c7069",
   "metadata": {},
   "source": [
    "---"
   ]
  },
  {
   "cell_type": "code",
   "execution_count": 46,
   "id": "d33a6295-3a23-4292-bd83-67c341936002",
   "metadata": {},
   "outputs": [],
   "source": [
    "stacked_preds = stacked_model.predict(XS_final)"
   ]
  },
  {
   "cell_type": "code",
   "execution_count": 49,
   "id": "8f429261-6a19-4c83-986e-29c7b1a64e1d",
   "metadata": {},
   "outputs": [
    {
     "data": {
      "image/png": "[encoded data removed]",
      "text/plain": [
       "<Figure size 1000x1000 with 2 Axes>"
      ]
     },
     "metadata": {},
     "output_type": "display_data"
    }
   ],
   "source": [
    "cm = confusion_matrix(stacked_preds, yS_final)\n",
    "\n",
    "fig, ax = plt.subplots(figsize=(10,10))\n",
    "sns.heatmap(cm, annot=True, fmt='.2f', xticklabels=['r/Geopolitics', 'r/WorldNews'],\n",
    "            yticklabels = ['r/Geopolitics', 'r/WorldNews'], cmap = 'PuBu')\n",
    "plt.ylabel('Actual')\n",
    "plt.xlabel('Predicted')\n",
    "plt.title('Stacked Model (Ext, RandF, GradB)')\n",
    "# plt.show(block=False)\n",
    "\n",
    "plt.savefig('../visuals/stacked_cm.png')"
   ]
  },
  {
   "cell_type": "code",
   "execution_count": 49,
   "id": "3bf50bf9-07cb-488a-8cbb-7ce5983f5798",
   "metadata": {},
   "outputs": [],
   "source": [
    "df_analysis = df_sub.loc[yS_final.index]"
   ]
  },
  {
   "cell_type": "code",
   "execution_count": 50,
   "id": "d987c3dc-f3f2-48fd-a97e-73dc1305258b",
   "metadata": {},
   "outputs": [],
   "source": [
    "df_analysis['preds'] = stacked_preds"
   ]
  },
  {
   "cell_type": "code",
   "execution_count": 54,
   "id": "42513845-84a3-4556-97cf-a24102c47a6a",
   "metadata": {},
   "outputs": [],
   "source": [
    "df_analysis.to_csv('../data/df_analysis.csv', index = False)"
   ]
  },
  {
   "cell_type": "code",
   "execution_count": null,
   "id": "f716b88a-3e0a-4aa0-a449-48e98f70e469",
   "metadata": {},
   "outputs": [],
   "source": []
  }
 ],
 "metadata": {
  "kernelspec": {
   "display_name": "Python 3 (ipykernel)",
   "language": "python",
   "name": "python3"
  },
  "language_info": {
   "codemirror_mode": {
    "name": "ipython",
    "version": 3
   },
   "file_extension": ".py",
   "mimetype": "text/x-python",
   "name": "python",
   "nbconvert_exporter": "python",
   "pygments_lexer": "ipython3",
   "version": "3.9.13"
  }
 },
 "nbformat": 4,
 "nbformat_minor": 5
}
