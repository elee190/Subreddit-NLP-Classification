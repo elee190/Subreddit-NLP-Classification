{
 "cells": [
  {
   "cell_type": "code",
   "execution_count": null,
   "id": "295e19ff-7af7-4c50-a7bf-26a112d4eecb",
   "metadata": {},
   "outputs": [],
   "source": [
    "# identify non-English language postings, as well as any postings that contain emojis (suspected advertisements)\n",
    "for i in df_all_subm['title']:\n",
    "    if i.isascii() == False:\n",
    "        print(i)"
   ]
  },
  {
   "cell_type": "code",
   "execution_count": null,
   "id": "65447b0b-8a49-4599-b39c-04c25e8910ce",
   "metadata": {},
   "outputs": [],
   "source": [
    "# false positive\n",
    "df_all_subm.iloc[6]['title']"
   ]
  },
  {
   "cell_type": "code",
   "execution_count": null,
   "id": "2decdd70-d259-49f1-b72b-f45c71fb6902",
   "metadata": {},
   "outputs": [],
   "source": [
    "for i in df_all_subm.iloc[6]['title']:\n",
    "    if i.isascii() == False:\n",
    "        print(i)"
   ]
  },
  {
   "cell_type": "code",
   "execution_count": null,
   "id": "f5c0c5eb-5d28-475e-8e1a-1650bc67604e",
   "metadata": {},
   "outputs": [],
   "source": [
    "# replace non-ascii apostrophe with ascii apostrophe\n",
    "df_all_subm['title'] = df_all_subm['title'].replace(\"’\", \"'\", regex = True)"
   ]
  },
  {
   "cell_type": "code",
   "execution_count": null,
   "id": "1b575e2b-d8a5-48d1-9d9d-a291421267f4",
   "metadata": {},
   "outputs": [],
   "source": [
    "# identify non-English language postings, as well as any postings that contain emojis (suspected advertisements)\n",
    "for i in df_all_subm['title']:\n",
    "    if i.isascii() == False:\n",
    "        print(i)"
   ]
  },
  {
   "cell_type": "code",
   "execution_count": null,
   "id": "a484de28-a158-4766-a66c-cd9a49328115",
   "metadata": {},
   "outputs": [],
   "source": [
    "# still reaching a large volume of false positives\n",
    "\n",
    "# change approach, replace all non-alphanumeric/digit characters with underscore _\n",
    "\n",
    "for i in range(len(df_all_subm['title'])):\n",
    "    object_1 = df_all_subm['title']\n",
    "    for char in range(len(object_1[i])):\n",
    "        if object_1[i][char].isascii() == False:\n",
    "            object_2 = object_1[i][char]\n",
    "            object_1[i] = object_1[i].replace(object_2, '_')"
   ]
  },
  {
   "cell_type": "code",
   "execution_count": null,
   "id": "cf81aa2c-4770-4c09-85bc-d905fda904db",
   "metadata": {},
   "outputs": [],
   "source": [
    "# find ratio of underscore:len(string) for all strings in column\n",
    "# test various threshhold ratios"
   ]
  },
  {
   "cell_type": "code",
   "execution_count": null,
   "id": "4b6e9153-b316-4d6b-bd25-666814a10daa",
   "metadata": {},
   "outputs": [],
   "source": [
    "for i in df_all_subm['title']:\n",
    "    measure = len(i)\n",
    "    count = 0\n",
    "    for char in i:\n",
    "        if char == '_':\n",
    "            count += 1\n",
    "    if count/measure >= 0.06:\n",
    "        print(i)"
   ]
  },
  {
   "cell_type": "code",
   "execution_count": null,
   "id": "34d7c283-68ba-4df9-8590-b467545e8b08",
   "metadata": {},
   "outputs": [],
   "source": [
    "# function to drop rows below non-ascii:len(string) ratio threshold of 4.5%\n",
    "\n",
    "def non_ascii_dropper(dataframe, column, threshold_ratio):\n",
    "    for i in range(len(dataframe[column])):\n",
    "        for char in range(len(object_1[i])):\n",
    "            if dataframe[column][i][char].isascii() == False:\n",
    "                non_ascii = dataframe[column][i][char]\n",
    "                dataframe[column][i] = dataframe[column][i].replace(non_ascii, '_')\n",
    "    for i in range(len(dataframe[column])):\n",
    "        measure = len(dataframe[column][i])\n",
    "        count = 0\n",
    "        for char in dataframe[column][i]:\n",
    "            if char == '_':\n",
    "                count += 1\n",
    "        if count/measure >= 0.045:\n",
    "            dataframe.drop([i], axis = 0, inplace = True)"
   ]
  },
  {
   "cell_type": "code",
   "execution_count": null,
   "id": "99ba6132-8696-4677-8e1b-1ed9615916aa",
   "metadata": {},
   "outputs": [],
   "source": [
    "non_ascii_dropper(df_all_subm, 'title', 0.045)"
   ]
  },
  {
   "cell_type": "code",
   "execution_count": null,
   "id": "1cb8ae31-2cdc-470d-b9ad-09a4aa5f63dc",
   "metadata": {},
   "outputs": [],
   "source": []
  },
  {
   "cell_type": "code",
   "execution_count": null,
   "id": "090a719e-3427-4f72-85ef-de093b22dba8",
   "metadata": {},
   "outputs": [],
   "source": []
  },
  {
   "cell_type": "code",
   "execution_count": null,
   "id": "5d63bf2b-d738-4777-8f11-0a5631340ae5",
   "metadata": {},
   "outputs": [],
   "source": [
    "from sklearn.linear_model import LogisticRegression\n",
    "from sklearn.ensemble import RandomForestClassifier, GradientBoostingClassifier, StackingClassifier\n",
    "from sklearn.model_selection import GridSearchCV, cross_val_score\n",
    "from sklearn.pipeline import Pipeline\n",
    "from sklearn.neighbors import KNeighborsClassifier"
   ]
  },
  {
   "cell_type": "code",
   "execution_count": null,
   "id": "6642a788-b456-4237-96bd-fae74ecb899d",
   "metadata": {},
   "outputs": [],
   "source": [
    "rfc = RandomForestClassifier()\n",
    "\n",
    "rfc_pipe = Pipeline([\n",
    "    ('cvec', CountVectorizer()),\n",
    "    ('rfc', RandomForestClassifier())\n",
    "])\n",
    "\n",
    "\n",
    "rfc_param = {\n",
    "    'cvec__ngram_range': [(1,2), (1,3)],\n",
    "    'cvec__stop_words': [None, stop_list],\n",
    "    'rfc__n_estimators': [400, 500, 600]\n",
    "}\n",
    "\n",
    "gs_rfc = GridSearchCV(rfc_pipe, param_grid = rfc_param, n_jobs = -1)\n",
    "\n",
    "gs_rfc.fit(X_train, y_train)\n",
    "\n",
    "gs_rfc.best_params_"
   ]
  },
  {
   "cell_type": "code",
   "execution_count": null,
   "id": "75829188-31cd-490b-a138-bc944b5bc753",
   "metadata": {},
   "outputs": [],
   "source": [
    "gs_rfc.score(X_train, y_train), gs_rfc.score(X_test, y_test)"
   ]
  },
  {
   "cell_type": "code",
   "execution_count": null,
   "id": "12cbbba5-7b8b-4c6a-ae60-f7afe7d856df",
   "metadata": {},
   "outputs": [],
   "source": [
    "gbc_pipe = Pipeline([\n",
    "    ('cvec', CountVectorizer()),\n",
    "    ('gbc', GradientBoostingClassifier())\n",
    "])\n",
    "\n",
    "gbc_param = {\n",
    "    'cvec__ngram_range': [(1,1), (1,2),(2,2),(1, 3),(2,3), (3,3)],\n",
    "    'cvec__tokenizer': [my_lemma, None],\n",
    "    'gbc__n_estimators' : [200, 300, 400, 500, 600]\n",
    "}\n",
    "\n",
    "gs_gbc = GridSearchCV(gbc_pipe, param_grid = gbc_param, n_jobs = -1)\n",
    "\n",
    "gs_gbc.fit(X_train, y_train)\n",
    "\n",
    "gs_gbc.best_params_"
   ]
  },
  {
   "cell_type": "code",
   "execution_count": null,
   "id": "75d2b52c-c5d8-4078-ac4b-845dd64def25",
   "metadata": {},
   "outputs": [],
   "source": [
    "gs_gbc.score(X_train, y_train), gs_gbc.score(X_test, y_test), gs_gbc.score(X_final, y_final)"
   ]
  },
  {
   "cell_type": "code",
   "execution_count": null,
   "id": "a3be5312-b59f-437e-b9db-e377f824f2c1",
   "metadata": {},
   "outputs": [],
   "source": []
  },
  {
   "cell_type": "code",
   "execution_count": null,
   "id": "e2c27ad2-263f-493e-9b38-0a058c0e1a77",
   "metadata": {},
   "outputs": [],
   "source": []
  },
  {
   "cell_type": "code",
   "execution_count": null,
   "id": "a01ac418-518a-434c-ad4c-527d0298dee0",
   "metadata": {},
   "outputs": [],
   "source": []
  },
  {
   "cell_type": "code",
   "execution_count": null,
   "id": "568234dc-7af6-4247-b7ef-0f33935f38a9",
   "metadata": {},
   "outputs": [],
   "source": []
  },
  {
   "cell_type": "code",
   "execution_count": null,
   "id": "0792d268-a6a1-491b-a333-00ba8272be1c",
   "metadata": {},
   "outputs": [],
   "source": []
  }
 ],
 "metadata": {
  "kernelspec": {
   "display_name": "Python 3 (ipykernel)",
   "language": "python",
   "name": "python3"
  },
  "language_info": {
   "codemirror_mode": {
    "name": "ipython",
    "version": 3
   },
   "file_extension": ".py",
   "mimetype": "text/x-python",
   "name": "python",
   "nbconvert_exporter": "python",
   "pygments_lexer": "ipython3",
   "version": "3.9.13"
  }
 },
 "nbformat": 4,
 "nbformat_minor": 5
}
